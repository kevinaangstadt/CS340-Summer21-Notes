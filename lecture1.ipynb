{
 "cells": [
  {
   "cell_type": "markdown",
   "id": "70d8170a-aed7-46d3-9750-9bf7cc4a4f83",
   "metadata": {},
   "source": [
    "# LECTURE ONE (5-03-21)"
   ]
  },
  {
   "cell_type": "markdown",
   "id": "1f468109-1a96-42eb-b418-f343c2e0e880",
   "metadata": {},
   "source": [
    "## Introduction to Software Engineering"
   ]
  },
  {
   "cell_type": "markdown",
   "id": "43378e1a-283d-48b8-846d-5990ed0769f8",
   "metadata": {},
   "source": [
    "Software is **critical** to modern life. For example, they are a large, if not the only contributor towards:\n",
    "\n",
    "-Large scale communication and spread of information\n",
    "\n",
    "-Location-based information (i.e. GPS)\n",
    "\n",
    "-Accumulating logistics"
   ]
  },
  {
   "cell_type": "markdown",
   "id": "ee905139-be5e-4d55-9ffc-51bdbf300870",
   "metadata": {},
   "source": [
    "To emphasize the influence and functionality of software in our lives, listed below are areas where a software maintenance error caused drastic consequences:\n",
    "\n",
    "-Power -> <a href=\"https://en.wikipedia.org/wiki/Northeast_blackout_of_2003\">Northeast blackout of '03</a>: A **race condition** (two pieces of code running simultaneously, producing a different result depending on the order) contributed to a failing alarm system, sparking a blackout affecting the northeastern and north midwestern areas of the U.S., as well as Ontario.\n",
    "\n",
    "-Defense -> <a href=\"https://en.wikipedia.org/wiki/MIM-104_Patriot#Failure_at_Dhahran\">Patriot Missile System error</a>: An error created through poor planning. The internal clock of the system was measuring tenths of a second, but the developers multiplied this value by ten. However, they were also using a 24-bit register, causing the missile to miss its target, killing many people.\n",
    "\n",
    "-Driving -> <a href = \"https://en.wikipedia.org/wiki/Sudden_unintended_acceleration#Sudden_acceleration_in_Toyota_vehicles\">Bookout v. Toyota Motor Company </a>: A stack overflow in a few cars' software essentially disabled users from controlling their acceleration seamlessly. We can attribute this error to poor planning and/or not ensuring that redundancy was avoided in the code.\n",
    "\n",
    "-Finance/Privacy -> <a href = \"https://en.wikipedia.org/wiki/2017_Equifax_data_breach\">Equifax data breach</a>: In 2017, Equifax, which managed their systems primarily  on Apache Struts, ran into a bug which likely could have been avoided by upgrading said software. Subsequently, privacy of the company and their clients was breached (i.e. passwords were found in ASCI text files).\n",
    "\n",
    "-Health Care -> <a href = \"https://en.wikipedia.org/wiki/HealthCare.gov#Concerns_about_the_website\"> Healthcare.gov</a>\n",
    "\n",
    "-Space -> <a href = \"https://en.wikipedia.org/wiki/Cluster_(spacecraft)\">ESA Ariane 5, Flight 501</a>\n",
    "\n",
    "-Aviation -> <a href = \"https://en.wikipedia.org/wiki/Maneuvering_Characteristics_Augmentation_System#Scrutiny\">737 Max MCAS</a>\n",
    "\n",
    "-Medicine -> <a href = \"https://en.wikipedia.org/wiki/Therac-25#Problem_description\">Therac-25</a>"
   ]
  },
  {
   "cell_type": "markdown",
   "id": "6efaec56-2e65-418b-91be-e6a61aaacaad",
   "metadata": {},
   "source": [
    "### What's going on here?"
   ]
  },
  {
   "cell_type": "markdown",
   "id": "89829810-2fd3-4a89-8a3c-a786906e4476",
   "metadata": {},
   "source": [
    "Software is much larger than just **programs**"
   ]
  },
  {
   "cell_type": "markdown",
   "id": "34364cdc-ebfa-44b0-94fd-f201b4f22e74",
   "metadata": {},
   "source": [
    "A **program** is a collection of instructions or order of operations for a computer to perform a specific task."
   ]
  },
  {
   "cell_type": "markdown",
   "id": "23146466-9ddb-433e-9c5a-314b2200a308",
   "metadata": {},
   "source": [
    "**Software** is a collection of programs, procedures, data, or instructions that work together to provide specific functionality. "
   ]
  },
  {
   "cell_type": "markdown",
   "id": "c340219e-73e8-4555-9b37-57f09fa98528",
   "metadata": {},
   "source": [
    "Software engineering isn't solely about coding. It's about maintaining that code, both for the developers and the customer, as well as planninng to scale the tool. *Quality control* and *size* is key to mastering. Therefore, software requires sufficient..."
   ]
  },
  {
   "cell_type": "markdown",
   "id": "130ff0b2-c50a-4eb1-adaa-2b8d20a13001",
   "metadata": {},
   "source": [
    "### ...Mangement"
   ]
  },
  {
   "cell_type": "markdown",
   "id": "5747e9b4-837d-494b-8e45-9161c7ba9935",
   "metadata": {},
   "source": [
    "Design - how do we ensure a long lifespan for this software?"
   ]
  },
  {
   "cell_type": "markdown",
   "id": "873d5056-1694-4612-8097-8511fe4bb8a0",
   "metadata": {},
   "source": [
    "Testing - How can one be sure that this software, which is planned to be released to the public, is exactly what it promises?"
   ]
  },
  {
   "cell_type": "markdown",
   "id": "d4a24990-541f-419c-85d5-791ec37f81ff",
   "metadata": {},
   "source": [
    "Integration - Since software is a collection of programs, how do we integrate this suite? A lot of the aforementioned issues can be attributed to a lack of synergy between multiple programs."
   ]
  },
  {
   "cell_type": "markdown",
   "id": "eb91881e-8c62-4f89-a86b-dbf7e77e383e",
   "metadata": {},
   "source": [
    "Documentation - You're most likely not working by yourself on large scale projects. You'll be working with a team. Thus, modifications, questions, and discussions must be handled well, in and out of the code."
   ]
  }
 ],
 "metadata": {
  "kernelspec": {
   "display_name": "Python 3",
   "language": "python",
   "name": "python3"
  },
  "language_info": {
   "codemirror_mode": {
    "name": "ipython",
    "version": 3
   },
   "file_extension": ".py",
   "mimetype": "text/x-python",
   "name": "python",
   "nbconvert_exporter": "python",
   "pygments_lexer": "ipython3",
   "version": "3.8.5"
  }
 },
 "nbformat": 4,
 "nbformat_minor": 5
}
