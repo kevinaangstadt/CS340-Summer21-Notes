{
 "cells": [
  {
   "cell_type": "markdown",
   "id": "1cfd8d1d-6969-4023-b7c6-2508cac51af9",
   "metadata": {},
   "source": [
    "# Lecture 1 (5-03)"
   ]
  },
  {
   "cell_type": "markdown",
   "id": "14fea3b2-efff-42a5-beb5-f962d3435f79",
   "metadata": {},
   "source": [
    "## Introduction to software engineering"
   ]
  },
  {
   "cell_type": "markdown",
   "id": "174fe1e9-c52b-464c-9e89-40d17c4bf9c0",
   "metadata": {},
   "source": [
    "Software is **critical** to modern life. For example:\n",
    "\n",
    "-Large scale communication and spread of information could not be achieved without software.\n",
    "\n",
    "-Location based information (i.e. GPS) would be impossible to collect.\n",
    "\n",
    "-Aggregating a collection of logistics would be difficult, as well."
   ]
  },
  {
   "cell_type": "markdown",
   "id": "d8f0ce49-671e-415e-b410-1ffcd5cba254",
   "metadata": {},
   "source": [
    "Other areas include:\n",
    "\n",
    "- Power -> <a href=\"https://en.wikipedia.org/wiki/Northeast_blackout_of_2003#Causes\">Northeast Blackout of 2003</a>: A **race condition** (an event in which two pieces of code run simultaneously, producing different results depending on the order) caused an alarm system failure, prompting a blackout in the northeastern and north midwestern US, as well as Ontario, Canada.\n",
    "- Defense -> <a href=\"https://en.wikipedia.org/wiki/MIM-104_Patriot#Failure_at_Dhahran\">Patriot Missile System error</a>: A clock system calculating velocity incorrectly. It was mesuring in tenths of a second, so the devs multiplied that value by ten to get a measurement in seconds. However, they were using a 24-bit register, causing the missile to miss its target by a few hundred meters, killing many people.\n",
    "- Driving -> <a href=\"https://en.wikipedia.org/wiki/Sudden_unintended_acceleration#Sudden_acceleration_in_Toyota_vehicles\">Bookout v. Toyota Motor Company</a>: A software bug in a few vehicles (including Audi and Toyota) essentially disabled control over acceleration spontaneously, leading to a few fatal crashes.\n",
    "- Finance/privacy -> <a href=\"https://en.wikipedia.org/wiki/2017_Equifax_data_breach/a\">Equifax data breach</a>: Equifax, a credit reporting institution, was using an outdated version of software called Apache Struts. A security patch was released, but the company's cilents had their privacy breach (i.e. investigation found passwords in standard ASCI text files).\n",
    "- Health Care -> <a href=\"https://en.wikipedia.org/wiki/HealthCare.gov#Concerns_about_the_website\">HeathCare.gov</a>\n",
    "- Space -> <a href=\"https://en.wikipedia.org/wiki/Cluster_(spacecraft)#Launch_failure\"> ESA Ariane 5, flight 501</a>\n",
    "- Aviation -> <a href=\"https://en.wikipedia.org/wiki/Maneuvering_Characteristics_Augmentation_System#Scrutiny\">737 Max MCAS</a>\n",
    "- Medicine -> <a href=\"https://en.wikipedia.org/wiki/Therac-25#Problem_description\">Therac-25</a>\n",
    "\n",
    "Many of these software errors can be attributed to poor planning and maintenance of the tools."
   ]
  },
  {
   "cell_type": "markdown",
   "id": "9e46b908-27e1-4063-85a8-f0a27cb2f0f6",
   "metadata": {},
   "source": [
    "### What is going here?"
   ]
  },
  {
   "cell_type": "markdown",
   "id": "4123e105-2704-4501-8acf-2108fa416831",
   "metadata": {},
   "source": [
    "Software is much larger than just a **program**"
   ]
  },
  {
   "cell_type": "markdown",
   "id": "9adcc885-3a8f-4b21-8f6b-0cadb4186642",
   "metadata": {},
   "source": [
    "A **program** is a collection of instructions or order of operations for a computer to perform a specific task."
   ]
  },
  {
   "cell_type": "markdown",
   "id": "73dd1aa2-1009-4c17-a20e-ef804e9b7e17",
   "metadata": {
    "tags": []
   },
   "source": [
    "**Software** is often a collection of programs, procedures, data, or instructions that work together to provide specific functionality. "
   ]
  },
  {
   "cell_type": "markdown",
   "id": "3ef6dd26-e522-4986-a259-49e56ab39dda",
   "metadata": {},
   "source": [
    "In software engineering, a rather small amount of a team's time is spent actually writing the code. The majority of it is spent on maintenance. FTherefore, a good engineering team needs great..."
   ]
  },
  {
   "cell_type": "markdown",
   "id": "cf7d3e80-a9c2-446a-99c9-b90adb6debf2",
   "metadata": {},
   "source": [
    "### ...Management"
   ]
  },
  {
   "cell_type": "code",
   "execution_count": null,
   "id": "a17484e7-0c7b-40b7-930a-77bebab100b0",
   "metadata": {},
   "outputs": [],
   "source": []
  }
 ],
 "metadata": {
  "kernelspec": {
   "display_name": "Python 3",
   "language": "python",
   "name": "python3"
  },
  "language_info": {
   "codemirror_mode": {
    "name": "ipython",
    "version": 3
   },
   "file_extension": ".py",
   "mimetype": "text/x-python",
   "name": "python",
   "nbconvert_exporter": "python",
   "pygments_lexer": "ipython3",
   "version": "3.8.5"
  }
 },
 "nbformat": 4,
 "nbformat_minor": 5
}
