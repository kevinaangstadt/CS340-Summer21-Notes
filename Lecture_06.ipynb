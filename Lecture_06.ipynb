{
 "cells": [
  {
   "cell_type": "markdown",
   "id": "790879e0-267e-4ec3-89bf-e31f26ebdb05",
   "metadata": {},
   "source": [
    "# Lecture 6 (05-14)"
   ]
  },
  {
   "cell_type": "markdown",
   "id": "86e04b31-de74-4102-93fa-7617d20309e9",
   "metadata": {},
   "source": [
    "## Version Control Systems (VCS)"
   ]
  },
  {
   "cell_type": "markdown",
   "id": "ea69d36d-f2e9-4802-aed6-b2338223683e",
   "metadata": {},
   "source": [
    "### Goals:\n",
    "\n",
    "- Redundancy: retaining files in the face of hardware/software failures\n",
    "\n",
    "- Collaboration: enabling multiple people to work on the same project with more syngergy.\n",
    "\n",
    "- Log of past changes\n",
    "    - revert to past changes \n",
    "    - One can \"appoint blame\" by observing who made a change\n",
    "    - Predict time needed to add a feature\n",
    " \n",
    "- Understand original purpose / history\n",
    "\n",
    "- Related ideas:\n",
    "    - Build this into a larger management tool\n",
    "    - Track bugs or issues\n",
    "    - Handle proposed patches\n",
    "    - Automatically build/test/release code\n",
    "    - Document functionality\n",
    "    "
   ]
  },
  {
   "cell_type": "markdown",
   "id": "53fb6073-400c-4261-be81-a9f71c9c7ecc",
   "metadata": {},
   "source": [
    "### Two architectures for VCS"
   ]
  },
  {
   "cell_type": "markdown",
   "id": "83d73ab5-ce04-429f-b448-f171a92b5fe9",
   "metadata": {},
   "source": [
    "**Centralized**\n",
    "\n",
    "    - Single server that hosts the history/versions of all files.\n",
    "    - Clients \"check out\" a specific version of the files and can \"check in\" their changes.\n",
    "    \n",
    "    PROS:\n",
    "        - One history that everyone agrees on.\n",
    "    CONS:\n",
    "        - Doesn't resolve redundancy\n",
    "        - Need to connect the server for any operations\n",
    "        \n",
    "**Distributed**:\n",
    "\n",
    "    - Each copy of the repository contains the full history of the original repo.\n",
    "    \n",
    "    PROS:\n",
    "        - Resolves redundancy to an extent\n",
    "        - Still keeping a shared history\n",
    "        - Flexibility\n",
    "        - Offline functionality\n",
    "    CONS:\n",
    "        - Considerable increase in storage needed, compared to a centralized system.\n",
    "        - History != history' != history'' (reconcile resolve history)\n",
    "        "
   ]
  },
  {
   "cell_type": "markdown",
   "id": "9a120ed4-1ce9-434d-85a7-daa1c7313075",
   "metadata": {},
   "source": [
    "### How does a distributed version control system (DVCS) keep track of changes to files? (i.e. snapshots)"
   ]
  },
  {
   "cell_type": "markdown",
   "id": "33789701-ed21-42f7-9951-66c1976999e7",
   "metadata": {
    "tags": []
   },
   "source": [
    "**Option 1**: Store a full copy of every file when a user \"checks in\" or \"commits\" their changes. This is one of the main contributors to the increase in required storage, though.\n",
    "\n",
    "**Option 2**: Store the differences or changes to files (store the \"delta\"). This would keep track of lines that were deleted and/or inserted.  Through this, you can essentially get a version and \"replay\" all of the deltas. \n",
    "\n",
    "**Option 3**: Only store a new copy of the file when there are changes (these are the snapshots). These can often be combined with compression to reduce storage. \n"
   ]
  },
  {
   "cell_type": "markdown",
   "id": "4eff9ee5-d567-43f8-9168-044c200dffb0",
   "metadata": {},
   "source": [
    "With each commit to a VCS, we will also store:\n",
    "\n",
    "- Author\n",
    "- Email\n",
    "- Timestamp\n",
    "- Message describing the changes (also referred to as \"prose\", this message usually includes both a short summary and a detailed description of what you, the author, have changed.)\n",
    "\n",
    "Often commit when you've:\n",
    "\n",
    "- Completed a task, \n",
    "- Completed subtask or checkpoint\n",
    "- \"Left\" the code a while.\n",
    "- Shared your changes with others"
   ]
  },
  {
   "cell_type": "markdown",
   "id": "9fc36bf9-f526-4607-90aa-ad1782bca6ff",
   "metadata": {},
   "source": [
    "In your terminal or command line, you'll want to edit certain properties (namely, the user.name and user.email fields) with git config --global [field] \"entry\".\n",
    "\n",
    "Furthermore, to commit and push a change or new file, you'll want to:\n",
    "- git status (this will display the state of all of your files in your repo, whether they've been added or not, modified, etc.)\n",
    "- git add filename.extension\n",
    "- git commit (you can also use git commit -m \"message\" if you'd like to submit a shorter message, generally)\n",
    "- git push"
   ]
  },
  {
   "cell_type": "code",
   "execution_count": null,
   "id": "6fc9f926-577b-4a34-966e-53d14bf2c48a",
   "metadata": {},
   "outputs": [],
   "source": []
  }
 ],
 "metadata": {
  "kernelspec": {
   "display_name": "Python 3",
   "language": "python",
   "name": "python3"
  },
  "language_info": {
   "codemirror_mode": {
    "name": "ipython",
    "version": 3
   },
   "file_extension": ".py",
   "mimetype": "text/x-python",
   "name": "python",
   "nbconvert_exporter": "python",
   "pygments_lexer": "ipython3",
   "version": "3.7.10"
  }
 },
 "nbformat": 4,
 "nbformat_minor": 5
}
